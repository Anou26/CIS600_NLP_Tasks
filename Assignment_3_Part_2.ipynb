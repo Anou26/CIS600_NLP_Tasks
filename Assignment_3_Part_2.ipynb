{
  "nbformat": 4,
  "nbformat_minor": 0,
  "metadata": {
    "colab": {
      "provenance": [],
      "authorship_tag": "ABX9TyPMTJPIhhnJSJ3Ih6i71CP2",
      "include_colab_link": true
    },
    "kernelspec": {
      "name": "python3",
      "display_name": "Python 3"
    },
    "language_info": {
      "name": "python"
    }
  },
  "cells": [
    {
      "cell_type": "markdown",
      "metadata": {
        "id": "view-in-github",
        "colab_type": "text"
      },
      "source": [
        "<a href=\"https://colab.research.google.com/github/Anou26/NLP-Tasks/blob/main/Assignment_3_Part_2.ipynb\" target=\"_parent\"><img src=\"https://colab.research.google.com/assets/colab-badge.svg\" alt=\"Open In Colab\"/></a>"
      ]
    },
    {
      "cell_type": "markdown",
      "source": [
        "**Submitted By:**\n",
        "\n",
        "**Name: Anoushka Mergoju**\n",
        "\n",
        "**SUID: 328542442**"
      ],
      "metadata": {
        "id": "egz7mHf6r-vP"
      }
    },
    {
      "cell_type": "markdown",
      "source": [
        "**1. Write a Python program that uses the scikit-learn\n",
        "MLPClassifier class, and the TfidfVectorizer class to create a neural network that can be applied to sentiment analysis.**\n",
        "\n",
        "**2. Use Stanford Sentiment Treebank (SST)\n",
        "Dataset, And produce the same kind output:\n",
        "Precision = 0.8133 (using TF-IDF)\n",
        "Recall = 0.8133 (using TF-IDF)\n",
        "Accuracy = 0.8133 (using TF-IDF)**"
      ],
      "metadata": {
        "id": "inBSq-eXtMw-"
      }
    },
    {
      "cell_type": "code",
      "source": [
        "import numpy as np\n",
        "import nltk\n",
        "import re\n",
        "from sklearn.neural_network import MLPClassifier\n",
        "from sklearn.feature_extraction.text import TfidfVectorizer\n",
        "from sklearn.metrics import precision_score, recall_score, accuracy_score\n",
        "from sklearn.model_selection import train_test_split\n",
        "\n",
        "# Define a function to read and process text data from a specified file path\n",
        "def load_and_preprocess(file_path):\n",
        "    '''\n",
        "    Extract sentences and their corresponding labels from the file, converting labels to a binary format.\n",
        "\n",
        "    Arguments:\n",
        "    file_path: str - Path to the data file.\n",
        "    Returns:\n",
        "    list, list - Lists containing the processed sentences and their binary labels.\n",
        "    '''\n",
        "    labels = []\n",
        "    sentences = []\n",
        "    with open(file_path, 'r', encoding='utf-8') as file:\n",
        "        pattern = r'^(__label__[0-9]+)\\s+'\n",
        "        for line in file:\n",
        "            match = re.match(pattern, line)\n",
        "            if match:\n",
        "                original_label = match.group(1)\n",
        "                text = line[len(original_label):].strip()\n",
        "                if original_label in [\"__label__1\", \"__label__2\"]:\n",
        "                    binary_label = 0\n",
        "                elif original_label in [\"__label__4\", \"__label__5\"]:\n",
        "                    binary_label = 1\n",
        "                else:\n",
        "                    continue\n",
        "                labels.append(binary_label)\n",
        "                sentences.append(text)\n",
        "    return sentences, labels\n",
        "\n",
        "# Process data from train, test, and development files\n",
        "train_sentences, train_labels = load_and_preprocess('/content/sst_train.txt')\n",
        "test_sentences, test_labels = load_and_preprocess('/content/sst_test.txt')\n",
        "dev_sentences, dev_labels = load_and_preprocess('/content/sst_dev.txt')\n",
        "\n",
        "# Set up and configure the TF-IDF Vectorizer, then apply it to the training data\n",
        "tfidf_vectorizer = TfidfVectorizer()\n",
        "X_train = tfidf_vectorizer.fit_transform(train_sentences)\n",
        "X_test = tfidf_vectorizer.transform(test_sentences)\n",
        "X_dev = tfidf_vectorizer.transform(dev_sentences)\n",
        "\n",
        "# Configure and train the MLPClassifier\n",
        "mlp_classifier = MLPClassifier(hidden_layer_sizes=(512, 128), max_iter=500, activation='relu', solver='adam', learning_rate='adaptive', random_state=42)\n",
        "mlp_classifier.fit(X_train, train_labels)\n",
        "\n",
        "# Generate predictions for the test and development datasets\n",
        "y_test_pred = mlp_classifier.predict(X_test)\n",
        "y_dev_pred = mlp_classifier.predict(X_dev)\n",
        "\n",
        "# Evaluate and display the model's performance metrics for the test dataset\n",
        "test_precision = precision_score(test_labels, y_test_pred)\n",
        "test_recall = recall_score(test_labels, y_test_pred)\n",
        "test_accuracy = accuracy_score(test_labels, y_test_pred)\n",
        "\n",
        "print(f\"Test Precision: {test_precision}, Test Recall: {test_recall}, Test Accuracy: {test_accuracy}\")\n"
      ],
      "metadata": {
        "colab": {
          "base_uri": "https://localhost:8080/"
        },
        "id": "d_TXBS8XM1nD",
        "outputId": "2e9b6bf0-c46e-4918-eb2d-5be3f3c7977b"
      },
      "execution_count": 3,
      "outputs": [
        {
          "output_type": "stream",
          "name": "stdout",
          "text": [
            "Test Precision: 0.7716115261472786, Test Recall: 0.7953795379537953, Test Accuracy: 0.7803404722679846\n"
          ]
        }
      ]
    },
    {
      "cell_type": "markdown",
      "source": [
        "**3. Write a Python program that uses tensorflow.keras.Sequential() to create a neural network that can be applied to sentiment analysis.**\n",
        "\n",
        "**4. Redo Step 2, and produce the same kind output:\n",
        "Precision = 0.8215 (TFIDF)\n",
        "Recall = 0. 8215 (TFIDF)\n",
        "Accuracy = 0. 8215 (TFIDF)**"
      ],
      "metadata": {
        "id": "Ch-0-JgTttDM"
      }
    },
    {
      "cell_type": "code",
      "source": [
        "import numpy as np\n",
        "import tensorflow as tf\n",
        "from tensorflow.keras.models import Sequential\n",
        "from tensorflow.keras.layers import Dense, Dropout\n",
        "from tensorflow.keras.optimizers import Adam\n",
        "from sklearn.feature_extraction.text import TfidfVectorizer\n",
        "from sklearn.metrics import precision_score, recall_score, accuracy_score\n",
        "import re\n",
        "\n",
        "# Define a function to read and process text data and their labels from a file\n",
        "def load_and_preprocess(file_path):\n",
        "    '''\n",
        "    This function reads a file to extract sentences and assign binary labels to them.\n",
        "    Arguments:\n",
        "    file_path: str - Location of the dataset file.\n",
        "    Returns:\n",
        "    list, list - Lists of sentences and their corresponding binary labels.\n",
        "    '''\n",
        "    labels = []\n",
        "    sentences = []\n",
        "    with open(file_path, 'r', encoding='utf-8') as file:\n",
        "        pattern = r'^(__label__[0-9]+)\\s+'\n",
        "        for line in file:\n",
        "            match = re.match(pattern, line)\n",
        "            if match:\n",
        "                original_label = match.group(1)\n",
        "                text = line[len(original_label):].strip()\n",
        "                if original_label in [\"__label__1\", \"__label__2\"]:\n",
        "                    binary_label = 0\n",
        "                elif original_label in [\"__label__4\", \"__label__5\"]:\n",
        "                    binary_label = 1\n",
        "                else:\n",
        "                    continue\n",
        "                labels.append(binary_label)\n",
        "                sentences.append(text)\n",
        "    return sentences, labels\n",
        "\n",
        "# Extract and preprocess data\n",
        "train_sentences, train_labels = load_and_preprocess('/content/sst_train.txt')\n",
        "test_sentences, test_labels = load_and_preprocess('/content/sst_test.txt')\n",
        "dev_sentences, dev_labels = load_and_preprocess('/content/sst_dev.txt')\n",
        "\n",
        "# Initialize and configure TF-IDF Vectorizer, then apply it to the training data\n",
        "tfidf_vectorizer = TfidfVectorizer()\n",
        "X_train = tfidf_vectorizer.fit_transform(train_sentences)\n",
        "X_test = tfidf_vectorizer.transform(test_sentences)\n",
        "X_dev = tfidf_vectorizer.transform(dev_sentences)\n",
        "\n",
        "# Function to construct and train the neural network\n",
        "def build_and_train_nn(X_train, y_train, X_test, y_test):\n",
        "    model = Sequential([\n",
        "        Dense(300, activation='relu', input_shape=(X_train.shape[1],)),\n",
        "        Dropout(0.5),\n",
        "        Dense(150, activation='relu'),\n",
        "        Dropout(0.5),\n",
        "        Dense(1, activation='sigmoid')\n",
        "    ])\n",
        "    model.compile(optimizer=Adam(learning_rate=0.00005), loss='binary_crossentropy', metrics=['accuracy'])\n",
        "    model.fit(X_train.toarray(), np.array(y_train), epochs=10, batch_size=64, validation_data=(X_test.toarray(), np.array(y_test)))\n",
        "    return model\n",
        "\n",
        "# Train the model using the training data\n",
        "neural_network = build_and_train_nn(X_train, train_labels, X_dev, dev_labels)\n",
        "\n",
        "# Predict using the trained model on the test dataset\n",
        "y_test_pred = (neural_network.predict(X_test.toarray()) > 0.5).astype('int32')\n",
        "\n",
        "# Evaluate and output the model's performance metrics on the test data\n",
        "precision = precision_score(test_labels, y_test_pred)\n",
        "recall = recall_score(test_labels, y_test_pred)\n",
        "accuracy = accuracy_score(test_labels, y_test_pred)\n",
        "\n",
        "print(f\"Precision: {precision}\")\n",
        "print(f\"Recall: {recall}\")\n",
        "print(f\"Accuracy: {accuracy}\")\n"
      ],
      "metadata": {
        "colab": {
          "base_uri": "https://localhost:8080/"
        },
        "id": "_pfp1PUqqULC",
        "outputId": "39d85ce0-8ea0-411c-fe88-2f83780d9645"
      },
      "execution_count": 4,
      "outputs": [
        {
          "output_type": "stream",
          "name": "stdout",
          "text": [
            "Epoch 1/10\n",
            "109/109 [==============================] - 10s 79ms/step - loss: 0.6930 - accuracy: 0.5059 - val_loss: 0.6924 - val_accuracy: 0.5057\n",
            "Epoch 2/10\n",
            "109/109 [==============================] - 9s 85ms/step - loss: 0.6908 - accuracy: 0.5506 - val_loss: 0.6908 - val_accuracy: 0.5080\n",
            "Epoch 3/10\n",
            "109/109 [==============================] - 9s 83ms/step - loss: 0.6873 - accuracy: 0.5503 - val_loss: 0.6875 - val_accuracy: 0.5126\n",
            "Epoch 4/10\n",
            "109/109 [==============================] - 9s 83ms/step - loss: 0.6811 - accuracy: 0.5688 - val_loss: 0.6806 - val_accuracy: 0.5447\n",
            "Epoch 5/10\n",
            "109/109 [==============================] - 8s 77ms/step - loss: 0.6684 - accuracy: 0.6737 - val_loss: 0.6659 - val_accuracy: 0.6399\n",
            "Epoch 6/10\n",
            "109/109 [==============================] - 9s 83ms/step - loss: 0.6418 - accuracy: 0.7565 - val_loss: 0.6383 - val_accuracy: 0.7294\n",
            "Epoch 7/10\n",
            "109/109 [==============================] - 9s 86ms/step - loss: 0.5938 - accuracy: 0.8432 - val_loss: 0.5949 - val_accuracy: 0.7626\n",
            "Epoch 8/10\n",
            "109/109 [==============================] - 9s 78ms/step - loss: 0.5275 - accuracy: 0.8767 - val_loss: 0.5440 - val_accuracy: 0.7913\n",
            "Epoch 9/10\n",
            "109/109 [==============================] - 10s 89ms/step - loss: 0.4527 - accuracy: 0.8984 - val_loss: 0.5004 - val_accuracy: 0.7878\n",
            "Epoch 10/10\n",
            "109/109 [==============================] - 9s 81ms/step - loss: 0.3816 - accuracy: 0.9114 - val_loss: 0.4651 - val_accuracy: 0.7936\n",
            "57/57 [==============================] - 1s 11ms/step\n",
            "Precision: 0.7896341463414634\n",
            "Recall: 0.8547854785478548\n",
            "Accuracy: 0.8138385502471169\n"
          ]
        }
      ]
    },
    {
      "cell_type": "code",
      "source": [],
      "metadata": {
        "id": "tN8qwIX-sW9S"
      },
      "execution_count": null,
      "outputs": []
    }
  ]
}